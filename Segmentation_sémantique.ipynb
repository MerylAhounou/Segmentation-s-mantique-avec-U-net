{
  "cells": [
    {
      "cell_type": "markdown",
      "metadata": {
        "id": "view-in-github",
        "colab_type": "text"
      },
      "source": [
        "<a href=\"https://colab.research.google.com/github/MerylAhounou/Segmentation-s-mantique-avec-U-net/blob/main/Segmentation_s%C3%A9mantique.ipynb\" target=\"_parent\"><img src=\"https://colab.research.google.com/assets/colab-badge.svg\" alt=\"Open In Colab\"/></a>"
      ]
    },
    {
      "cell_type": "code",
      "execution_count": null,
      "metadata": {
        "colab": {
          "base_uri": "https://localhost:8080/"
        },
        "id": "AGQrjhh0gmXM",
        "outputId": "c49901ce-9b8b-4138-e42e-7d4cb5f9f1ad"
      },
      "outputs": [
        {
          "output_type": "stream",
          "name": "stdout",
          "text": [
            "Mounted at /content/drive\n"
          ]
        }
      ],
      "source": [
        "from google.colab import drive\n",
        "drive.mount('/content/drive')"
      ],
      "id": "AGQrjhh0gmXM"
    },
    {
      "cell_type": "markdown",
      "metadata": {
        "id": "ywZxY1LQg4El"
      },
      "source": [
        "# Chargement des librairies"
      ],
      "id": "ywZxY1LQg4El"
    },
    {
      "cell_type": "code",
      "execution_count": null,
      "metadata": {
        "colab": {
          "base_uri": "https://localhost:8080/"
        },
        "id": "8uBhc7wFiBeU",
        "outputId": "976a9be6-587c-4350-f632-bea9cc1da582"
      },
      "outputs": [
        {
          "output_type": "stream",
          "name": "stdout",
          "text": [
            "Collecting pynrrd\n",
            "  Downloading pynrrd-0.4.3-py2.py3-none-any.whl (18 kB)\n",
            "Requirement already satisfied: numpy>=1.11.1 in /usr/local/lib/python3.7/dist-packages (from pynrrd) (1.21.6)\n",
            "Installing collected packages: pynrrd\n",
            "Successfully installed pynrrd-0.4.3\n"
          ]
        }
      ],
      "source": [
        "%pip install pynrrd"
      ],
      "id": "8uBhc7wFiBeU"
    },
    {
      "cell_type": "code",
      "execution_count": null,
      "metadata": {
        "colab": {
          "base_uri": "https://localhost:8080/"
        },
        "id": "Wypk6z2QxRNL",
        "outputId": "5478e672-959a-4532-f6cd-9a33aa9b053a"
      },
      "outputs": [
        {
          "output_type": "stream",
          "name": "stdout",
          "text": [
            "Collecting pydicom\n",
            "  Downloading pydicom-2.3.0-py3-none-any.whl (2.0 MB)\n",
            "\u001b[K     |████████████████████████████████| 2.0 MB 5.4 MB/s \n",
            "\u001b[?25hInstalling collected packages: pydicom\n",
            "Successfully installed pydicom-2.3.0\n"
          ]
        }
      ],
      "source": [
        "%pip install pydicom"
      ],
      "id": "Wypk6z2QxRNL"
    },
    {
      "cell_type": "code",
      "execution_count": null,
      "metadata": {
        "id": "5f721966"
      },
      "outputs": [],
      "source": [
        "import os \n",
        "\n",
        "import matplotlib.pyplot as plt\n",
        "import numpy as np \n",
        "import nrrd as nd\n",
        "import pandas as pd \n",
        "import random \n",
        "import tensorflow as tf\n",
        "\n",
        "\n",
        "from tqdm import tqdm_notebook, tnrange\n",
        "import matplotlib.patches as mpatches\n",
        "from skimage.transform import resize\n",
        "from sklearn.model_selection import train_test_split\n",
        "from pydicom import dcmread \n",
        "from keras.models import Model, load_model\n",
        "from keras.layers import Input, BatchNormalization, Activation, Dense, Dropout\n",
        "from keras.layers.convolutional import Conv2D, Conv2DTranspose\n",
        "from keras.layers.pooling import MaxPooling2D, GlobalMaxPool2D\n",
        "from keras.layers.merge import concatenate, add\n",
        "from keras.callbacks import EarlyStopping, ModelCheckpoint, ReduceLROnPlateau\n",
        "from tensorflow.keras.optimizers import Adam\n",
        "from tensorflow.keras import layers\n",
        "from tensorflow import image\n",
        "from tensorflow.keras import backend as K\n",
        "from enum import Enum\n",
        "from PIL import Image"
      ],
      "id": "5f721966"
    },
    {
      "cell_type": "markdown",
      "metadata": {
        "id": "YtoI7gCiOq2E"
      },
      "source": [
        "# Constantes"
      ],
      "id": "YtoI7gCiOq2E"
    },
    {
      "cell_type": "code",
      "execution_count": null,
      "metadata": {
        "id": "3e1imNG1Ost8"
      },
      "outputs": [],
      "source": [
        "INPUTS_PATH = \"/content/drive/MyDrive/Segmentation sémantique/Inputs\"\n",
        "OUTPUTS_PATH = \"/content/drive/MyDrive/Segmentation sémantique/Outputs\"\n",
        "\n",
        "# La taille de l'image doit etre multiple de 16 parce que la première couche de convolution à des filtres de taille 16\n",
        "IMAGE_HEIGHT = 128\n",
        "IMAGE_WIDHT = 128\n",
        "\n",
        "NUM_CLASSES = 2"
      ],
      "id": "3e1imNG1Ost8"
    },
    {
      "cell_type": "markdown",
      "metadata": {
        "id": "cMzzc0DovqqS"
      },
      "source": [
        "# Fonctions"
      ],
      "id": "cMzzc0DovqqS"
    },
    {
      "cell_type": "code",
      "execution_count": null,
      "metadata": {
        "id": "wBML2VDFvsPF"
      },
      "outputs": [],
      "source": [
        "def conv2d_block(input_tensor, n_filters, kernel_size = 3, batchnorm = True):\n",
        "    \"\"\"Function to add 2 convolutional layers with the parameters passed to it\"\"\"\n",
        "    # first layer\n",
        "    x = Conv2D(filters = n_filters, kernel_size = (kernel_size, kernel_size),\\\n",
        "              kernel_initializer = 'he_normal', padding = 'same')(input_tensor)\n",
        "    if batchnorm:\n",
        "        x = BatchNormalization()(x)\n",
        "    x = Activation('relu')(x)\n",
        "    \n",
        "    # second layer\n",
        "    x = Conv2D(filters = n_filters, kernel_size = (kernel_size, kernel_size),\\\n",
        "              kernel_initializer = 'he_normal', padding = 'same')(input_tensor)\n",
        "    if batchnorm:\n",
        "        x = BatchNormalization()(x)\n",
        "    x = Activation('relu')(x)\n",
        "    \n",
        "    return x"
      ],
      "id": "wBML2VDFvsPF"
    },
    {
      "cell_type": "code",
      "execution_count": null,
      "metadata": {
        "id": "1IjmbY1POSKL"
      },
      "outputs": [],
      "source": [
        "def dice_coef(y_true, y_pred):\n",
        "    y_true_f = tf.reshape(tf.dtypes.cast(y_true, tf.float32), [-1])\n",
        "    y_pred_f = tf.reshape(tf.dtypes.cast(y_pred, tf.float32), [-1])\n",
        "    intersection = tf.reduce_sum(y_true_f * y_pred_f)\n",
        "    return (2. * intersection + 1.) / (tf.reduce_sum(y_true_f) + tf.reduce_sum(y_pred_f) + 1.)"
      ],
      "id": "1IjmbY1POSKL"
    },
    {
      "cell_type": "code",
      "execution_count": null,
      "metadata": {
        "id": "1vH5Lgt-vsyc"
      },
      "outputs": [],
      "source": [
        "def get_unet(input_img, n_filters = 32, dropout = 0.1, batchnorm = True):\n",
        "    \"\"\"Function to define the UNET Model\"\"\"\n",
        "    # Contracting Path\n",
        "    c1 = conv2d_block(input_img, n_filters * 1, kernel_size = 3, batchnorm = batchnorm)\n",
        "    p1 = MaxPooling2D((2, 2))(c1)\n",
        "    p1 = Dropout(dropout)(p1)\n",
        "    \n",
        "    c2 = conv2d_block(p1, n_filters * 2, kernel_size = 3, batchnorm = batchnorm)\n",
        "    p2 = MaxPooling2D((2, 2))(c2)\n",
        "    p2 = Dropout(dropout)(p2)\n",
        "    \n",
        "    c3 = conv2d_block(p2, n_filters * 4, kernel_size = 3, batchnorm = batchnorm)\n",
        "    p3 = MaxPooling2D((2, 2))(c3)\n",
        "    p3 = Dropout(dropout)(p3)\n",
        "    \n",
        "    c4 = conv2d_block(p3, n_filters * 8, kernel_size = 3, batchnorm = batchnorm)\n",
        "    p4 = MaxPooling2D((2, 2))(c4)\n",
        "    p4 = Dropout(dropout)(p4)\n",
        "    \n",
        "    c5 = conv2d_block(p4, n_filters = n_filters * 16, kernel_size = 3, batchnorm = batchnorm)\n",
        "    \n",
        "    # Expansive Path\n",
        "    u6 = Conv2DTranspose(n_filters * 8, (3, 3), strides = (2, 2), padding = 'same')(c5)\n",
        "    u6 = concatenate([u6, c4])\n",
        "    u6 = Dropout(dropout)(u6)\n",
        "    c6 = conv2d_block(u6, n_filters * 8, kernel_size = 3, batchnorm = batchnorm)\n",
        "    \n",
        "    u7 = Conv2DTranspose(n_filters * 4, (3, 3), strides = (2, 2), padding = 'same')(c6)\n",
        "    u7 = concatenate([u7, c3])\n",
        "    u7 = Dropout(dropout)(u7)\n",
        "    c7 = conv2d_block(u7, n_filters * 4, kernel_size = 3, batchnorm = batchnorm)\n",
        "    \n",
        "    u8 = Conv2DTranspose(n_filters * 2, (3, 3), strides = (2, 2), padding = 'same')(c7)\n",
        "    u8 = concatenate([u8, c2])\n",
        "    u8 = Dropout(dropout)(u8)\n",
        "    c8 = conv2d_block(u8, n_filters * 2, kernel_size = 3, batchnorm = batchnorm)\n",
        "    \n",
        "    u9 = Conv2DTranspose(n_filters * 1, (3, 3), strides = (2, 2), padding = 'same')(c8)\n",
        "    u9 = concatenate([u9, c1])\n",
        "    u9 = Dropout(dropout)(u9)\n",
        "    c9 = conv2d_block(u9, n_filters * 1, kernel_size = 3, batchnorm = batchnorm)\n",
        "    \n",
        "    outputs = Conv2D(NUM_CLASSES, (1, 1), activation='sigmoid')(c9)\n",
        "    model = Model(inputs=[input_img], outputs=[outputs], name=\"U-net\")\n",
        "    return model"
      ],
      "id": "1vH5Lgt-vsyc"
    },
    {
      "cell_type": "code",
      "execution_count": null,
      "metadata": {
        "id": "1zxM6tv5p8rX"
      },
      "outputs": [],
      "source": [
        "def encode_masks(img, img_int):\n",
        "    \"\"\"\n",
        "    Encode img for each class\n",
        "\n",
        "    Parameters:\n",
        "    ----------\n",
        "    img (np.array): image array\n",
        "\n",
        "    Return:\n",
        "    ------\n",
        "    mask (np.array)\n",
        "    \"\"\"\n",
        "    img = np.squeeze(img).T\n",
        "    img_int = np.squeeze(img_int) * 255\n",
        "\n",
        "    for x,y in [(x,y) for x in range(img_int.shape[0]) for y in range(img_int.shape[1])]:\n",
        "              j = img_int[x,y]\n",
        "              if j > 255:\n",
        "                img_int[x,y] = 255\n",
        "              elif j in range(1,5):\n",
        "                img_int[x,y] = 5\n",
        "              else:\n",
        "                img_int[x,y] = img_int[x,y] \n",
        "\n",
        "    \n",
        "    dim = len(img.shape)\n",
        "    if dim == 2:\n",
        "      # on ramène toutes les valeurs de pixel représentant le foie (1,4) à 1 pour que après le resize on puisse différencier la lésion qui aura pour valeur de pixel 2\n",
        "      for x,y in [(x,y) for x in range(img.shape[0]) for y in range(img.shape[1])]:\n",
        "              j = img[x,y]\n",
        "              if j == 4 or j == 1:\n",
        "                img[x,y] = 1\n",
        "              else:\n",
        "                img[x,y] = img[x,y] \n",
        "      img = resize(img, (IMAGE_HEIGHT, IMAGE_WIDHT), Image.NEAREST, mode = 'constant', preserve_range = True)\n",
        "\n",
        "      mask = np.zeros((img.shape[0], img.shape[1], NUM_CLASSES))\n",
        "      mask[:, :, 0] = img_int\n",
        "      # mask[:, :, 1] = img_int\n",
        "      # mask[:, :, 2] = img_int\n",
        "      # mask[:, :, 3] = img_int\n",
        "\n",
        "      for x,y in [(x,y) for x in range(img.shape[0]) for y in range(img.shape[1])]:\n",
        "        j = img[x,y]\n",
        "        if j == 0:\n",
        "          k = 0\n",
        "        elif j < 2 and j > 0:\n",
        "          k = 1\n",
        "        elif j >=2:\n",
        "          k = 2\n",
        "\n",
        "\n",
        "\n",
        "        # Vide\n",
        "        # if k == 0:\n",
        "        #   mask[x, y, 0] = 0\n",
        "        #   mask[x, y, 1] = 0\n",
        "        #   mask[x, y, 2] = 0\n",
        "        # Lésion\n",
        "        if k > 1:\n",
        "          mask[x, y, 0] = 0\n",
        "          mask[x, y, 1] = 1\n",
        "          # mask[x, y, 2] = 1\n",
        "          # mask[x, y, 3] = 0\n",
        "        # Foie\n",
        "        elif k == 1:\n",
        "          mask[x, y, 0] = 1\n",
        "          mask[x, y, 1] = 0\n",
        "          # mask[x, y, 2] = 0\n",
        "          # mask[x, y, 3] = 0\n",
        "\n",
        "    elif dim == 3:\n",
        "      mask = np.zeros((img.shape[0], img.shape[1], NUM_CLASSES))\n",
        "      mask[:, :, 0] = img_int\n",
        "      # mask[:, :, 1] = img_int\n",
        "      # mask[:, :, 2] = img_int\n",
        "      # mask[:, :, 3] = img_int\n",
        "      \n",
        "      # on ramène toutes les valeurs de pixel représentant le foie (1,4) à 1 pour que après le resize on puisse différencier la lésion qui aura pour valeur de pixel 2\n",
        "      for x,y in [(x,y) for x in range(img.shape[1]) for y in range(img.shape[2])]:\n",
        "        j = img[0,x,y]\n",
        "        p = img[1,x,y]\n",
        "        j += p\n",
        "        if j == 4 or j == 1:\n",
        "          img[0,x,y] = 0\n",
        "          img[1,x,y] = 1\n",
        "        else:\n",
        "          img[0,x,y] = img[0,x,y]\n",
        "          img[1,x,y] = img[1,x,y]\n",
        "      img = resize(img, (IMAGE_HEIGHT, IMAGE_WIDHT), Image.NEAREST, mode = 'constant', preserve_range = True)\n",
        "\n",
        "      for x,y in [(x,y) for x in range(img.shape[1]) for y in range(img.shape[2])]:\n",
        "        j = img[0,x,y]\n",
        "        p = img[1,x,y]\n",
        "        j += p\n",
        "\n",
        "        if j == 0:\n",
        "          k = 0\n",
        "        elif j <2  and j > 0:\n",
        "          k = 1\n",
        "        elif j >=2:\n",
        "          k = 2\n",
        "\n",
        "        # Vide\n",
        "        # if k == 0:\n",
        "        #   mask[x, y, 0] = 0\n",
        "        #   mask[x, y, 1] = 0\n",
        "        #   mask[x, y, 2] = 0\n",
        "        # Lésion\n",
        "        if k > 1:\n",
        "          mask[x, y, 0] = 0\n",
        "          mask[x, y, 1] = 1\n",
        "          # mask[x, y, 2] = 1\n",
        "          # mask[x, y, 3] = 0\n",
        "        # Foie\n",
        "        elif k == 1:\n",
        "          mask[x, y, 0] = 1\n",
        "          mask[x, y, 1] = 0\n",
        "          # mask[x, y, 2] = 0\n",
        "          # mask[x, y, 3] = 0\n",
        "    mask /= 255\n",
        "    return mask "
      ],
      "id": "1zxM6tv5p8rX"
    },
    {
      "cell_type": "code",
      "execution_count": 59,
      "metadata": {
        "id": "z82Ll9uvPcgM"
      },
      "outputs": [],
      "source": [
        "def encode_preds(img):\n",
        "    \"\"\"\n",
        "    Encode img_final pred for each class\n",
        "    black for nothing\n",
        "    green for the liver\n",
        "    purple for the lesion \n",
        "    red for the rib cage section\n",
        "    \n",
        "    Parameters:\n",
        "    ----------\n",
        "    img (np.array): image array\n",
        "\n",
        "    Return:\n",
        "    ------\n",
        "    img_final (np.array)\n",
        "    \"\"\"\n",
        "    img = img * 255\n",
        "    img = img.astype(int)\n",
        "    img_final = np.zeros((img.shape[0], img.shape[1], 3))\n",
        "    for x,y in [(x,y) for x in range(img.shape[0]) for y in range(img.shape[1])]:\n",
        "      if img[x,y,0] == 1 and img[x,y,1] == 0:\n",
        "        img_final[x,y,0] = 104\n",
        "        img_final[x,y,1] = 255\n",
        "        img_final[x,y,2] = 51\n",
        "      elif img[x,y,1] == 1 and img[x,y,0] == 0:\n",
        "        img_final[x,y,0] = 138\n",
        "        img_final[x,y,1] = 51\n",
        "        img_final[x,y,2] = 255\n",
        "      elif img[x,y,1] != 1 and img[x,y,0] != 1:\n",
        "        img_final[x,y,0] =  img[x,y,0]\n",
        "        img_final[x,y,1] =  img[x,y,0]\n",
        "        img_final[x,y,2] =  img[x,y,0]\n",
        "    return img_final / 255"
      ],
      "id": "z82Ll9uvPcgM"
    },
    {
      "cell_type": "code",
      "execution_count": null,
      "metadata": {
        "id": "HZJliYkpfKnx"
      },
      "outputs": [],
      "source": [
        "def jacard_coef(y_true, y_pred, smooth=1):\n",
        "    y_true_f = K.flatten(y_true)\n",
        "    y_pred_f = K.flatten(y_pred)\n",
        "    intersection = K.sum(y_true_f * y_pred_f)\n",
        "    return (intersection + smooth) / (K.sum(y_true_f) + K.sum(y_pred_f) - intersection + smooth)"
      ],
      "id": "HZJliYkpfKnx"
    },
    {
      "cell_type": "code",
      "execution_count": null,
      "metadata": {
        "id": "NJMXowv0wD6w"
      },
      "outputs": [],
      "source": [
        "def plot_sample(X, y, preds, ix=None):\n",
        "    \"\"\"Function to plot the results\"\"\"\n",
        "    if ix is None:\n",
        "        ix = random.randint(1, len(X)) -1\n",
        "\n",
        "    has_mask = y[ix].max() > 0\n",
        "\n",
        "    fig, ax = plt.subplots(1, 3, figsize=(10, 10))\n",
        "    ax[0].imshow(X[ix, ..., 0], cmap=plt.cm.gray)\n",
        "    ax[0].set_title('X')\n",
        "\n",
        "    ax[1].imshow(encode_preds(y[ix]).squeeze(), cmap=plt.cm.gray, interpolation='nearest')\n",
        "    ax[1].set_title('Y')\n",
        "\n",
        "    ax[2].imshow(encode_preds(preds[ix]).squeeze(), cmap=plt.cm.gray, interpolation='nearest')\n",
        "    ax[2].set_title('Predicted')\n",
        "    \n",
        "    colors = ['green','purple']\n",
        "\n",
        "    labels = [\"foie\", \"lésion\"]\n",
        "\n",
        "    patches = [mpatches.Patch(color=colors[i], label=f\"{labels[i]}\") for i in range(len(labels))]\n",
        "\n",
        "    plt.legend(\n",
        "                handles=patches,\n",
        "                bbox_to_anchor=(1.1, 0.65),\n",
        "                loc=2,\n",
        "                borderaxespad=0.4,\n",
        "                fontsize=14,\n",
        "                title=\"Mask Labels\",\n",
        "                title_fontsize=14,\n",
        "                edgecolor=\"black\",\n",
        "                facecolor=\"#c5c6c7\",\n",
        "            )"
      ],
      "id": "NJMXowv0wD6w"
    },
    {
      "cell_type": "markdown",
      "metadata": {
        "id": "4ilaUByKgzuu"
      },
      "source": [
        "# Exploration des données"
      ],
      "id": "4ilaUByKgzuu"
    },
    {
      "cell_type": "markdown",
      "metadata": {
        "id": "J0Kpe5o7pOwv"
      },
      "source": [
        "## Création d'une dataframe à partir de listes"
      ],
      "id": "J0Kpe5o7pOwv"
    },
    {
      "cell_type": "code",
      "execution_count": null,
      "metadata": {
        "id": "J06DEfkxFUjH"
      },
      "outputs": [],
      "source": [
        "list_patient = []\n",
        "list_input = []\n",
        "list_output = []\n",
        "list_input_resized_scaled = []\n",
        "list_output_resized_scaled = []\n",
        "list_input_shape = []\n",
        "list_output_shape = []\n",
        "list_number_coupe = []\n",
        "list_indice_coupe = []\n",
        "list_number_distinct_pixel_output = []\n",
        "patient_number = 1\n",
        "for file in os.listdir(INPUTS_PATH):\n",
        "  path_output = OUTPUTS_PATH + '/Patient ' + file +'.nrrd'\n",
        "  path_input_dir = INPUTS_PATH + '/'+ file\n",
        "  data, header = nd.read(path_output)\n",
        "  number_coupe = data.shape[-1] \n",
        "  dim_output = len(data.shape)\n",
        "  \n",
        "  print(\"\\nPatient n°: \", patient_number)\n",
        "  print(\"Processing données patient n°: \", file)\n",
        "  print(\"Dimension de l'image\", data.shape)\n",
        "  print(f'{number_coupe} coupes')\n",
        "  patient_number +=1\n",
        "\n",
        "  if dim_output == 3:\n",
        "      for coupe in range(number_coupe):\n",
        "        print(f'Coupe n°: {coupe + 1}')\n",
        "        for input in os.listdir(path_input_dir):\n",
        "            if str(coupe+1) == input.split(\".\")[-2].replace(\"Img\", \"\"):\n",
        "              path_input = path_input_dir + '/' + input\n",
        "              input = dcmread(path_input).pixel_array\n",
        "              list_input.append(input)\n",
        "              list_input_shape.append(input.shape)\n",
        "\n",
        "              input_resized_scaled = (resize(input, (IMAGE_HEIGHT, IMAGE_WIDHT, 1), Image.NEAREST, mode = 'constant', preserve_range = True)) / 255\n",
        "              list_input_resized_scaled.append(input_resized_scaled)\n",
        "              \n",
        "              output = (data[:, :, coupe]).T\n",
        "              list_number_distinct_pixel_output.append(np.unique(output, return_counts=True)[0].shape[0])\n",
        "              list_output.append(output)\n",
        "              list_output_shape.append(output.shape)\n",
        "\n",
        "              output_resized_scaled = encode_masks(data[:, :, coupe], input_resized_scaled)\n",
        "              list_output_resized_scaled.append(output_resized_scaled)\n",
        "              list_patient.append(file)\n",
        "              list_number_coupe.append(number_coupe)\n",
        "              list_indice_coupe.append(coupe+1)\n",
        "\n",
        "  elif dim_output != 3:\n",
        "\n",
        "      for coupe in range(number_coupe):\n",
        "        print(f'Coupe n°: {coupe + 1}')\n",
        "        for input in os.listdir(path_input_dir):\n",
        "            if str(coupe+1) == input.split(\".\")[-2].replace(\"Img\", \"\"):\n",
        "              path_input = path_input_dir + '/' + input\n",
        "              input = dcmread(path_input).pixel_array\n",
        "              list_input.append(input)\n",
        "              list_input_shape.append(input.shape)\n",
        "\n",
        "              input_resized_scaled = (resize(input, (IMAGE_HEIGHT, IMAGE_WIDHT, 1), Image.NEAREST, mode = 'constant', preserve_range = True)) / 255\n",
        "              list_input_resized_scaled.append(input_resized_scaled)\n",
        "              \n",
        "              data[1, :, :, coupe] = data[0, :, :, coupe] + data[1, :, :, coupe]\n",
        "              output = (data[1, :, :, coupe]).T\n",
        "              list_number_distinct_pixel_output.append(np.unique(output, return_counts=True)[0].shape[0])\n",
        "              list_output.append(output)\n",
        "              list_output_shape.append(data[:, :, :, coupe].shape)\n",
        "\n",
        "              output_resized_scaled = (encode_masks(data[1, :, :, coupe], input_resized_scaled))\n",
        "              list_output_resized_scaled.append(output_resized_scaled)\n",
        "              list_patient.append(file)\n",
        "              list_number_coupe.append(number_coupe)\n",
        "              list_indice_coupe.append(coupe+1)\n",
        "  print(\"Fini\")             "
      ],
      "id": "J06DEfkxFUjH"
    },
    {
      "cell_type": "code",
      "execution_count": null,
      "metadata": {
        "colab": {
          "base_uri": "https://localhost:8080/"
        },
        "id": "1YWA4mMoFEcW",
        "outputId": "9f470f19-dc79-4f5e-e22b-923afb6397ef"
      },
      "outputs": [
        {
          "output_type": "execute_result",
          "data": {
            "text/plain": [
              "(2667, 2667, 2667, 2667, 2667, 2667, 2667, 2667, 2667, 2667)"
            ]
          },
          "metadata": {},
          "execution_count": 14
        }
      ],
      "source": [
        "len(list_patient), len(list_input), len(list_input_shape), len(list_output), len(list_number_distinct_pixel_output), len(list_output_shape), \\\n",
        "len(list_indice_coupe), len(list_number_coupe), len(list_output_resized_scaled), len(list_input_resized_scaled)"
      ],
      "id": "1YWA4mMoFEcW"
    },
    {
      "cell_type": "code",
      "execution_count": null,
      "metadata": {
        "id": "g5buV9IlFUlW"
      },
      "outputs": [],
      "source": [
        "df = pd.DataFrame({\"Patients\": list_patient,\n",
        "                   \"Inputs\": list_input,\n",
        "                   \"Outputs\": list_output,\n",
        "                   \"Number_distincts_pixel_output\": list_number_distinct_pixel_output,\n",
        "                   \"Input_shape\": list_input_shape,\n",
        "                   \"Outputs_shape\": list_output_shape,\n",
        "                   \"Indices_coupe\": list_indice_coupe,\n",
        "                  \"Number_coupe\": list_number_coupe,\n",
        "                  \"Inputs_resized_scaled\": list_input_resized_scaled,\n",
        "                  \"Outputs_resized_scaled\": list_output_resized_scaled\n",
        "                  })\n",
        "\n",
        "df[\"Patients\"] = df[\"Patients\"].astype(int)\n",
        "df = df.sort_values(by=[\"Patients\", \"Indices_coupe\"], ignore_index=True)\n",
        "df"
      ],
      "id": "g5buV9IlFUlW"
    },
    {
      "cell_type": "markdown",
      "metadata": {
        "id": "kZ2nejg1pHGx"
      },
      "source": [
        "## Visualisation de scanner"
      ],
      "id": "kZ2nejg1pHGx"
    },
    {
      "cell_type": "code",
      "execution_count": null,
      "metadata": {
        "id": "nuAsf0D5oKr9"
      },
      "outputs": [],
      "source": [
        "# 100 premières coupes\n",
        "for indice_patient in range(len(df[:100])):\n",
        "# for indice_patient in range(len(df)):\n",
        "  coupe = df.loc[indice_patient, \"Indices_coupe\"]\n",
        "  dim_output = df.loc[indice_patient, \"Outputs_shape\"]\n",
        "  print(\"\\n----------------------------------------------------------------------------------------------------------------------------------------------------------------\\n----------------------------------------------------------------------------------------------------------------------------------------------------------------\")\n",
        "  print(\"Patient: \", df.loc[indice_patient, \"Patients\"])\n",
        "  print(\"Nombre de coupe: \", df.loc[indice_patient, \"Number_coupe\"])\n",
        "  print(\"Coupe n°: \", coupe)\n",
        "  print(\"Output shape: \", df.loc[indice_patient, \"Outputs_shape\"])\n",
        "\n",
        "  input = df.loc[indice_patient, \"Inputs\"]\n",
        "  # On regarde la distribution des pixels\n",
        "  # intensity_pixel_input = {}\n",
        "  # uniques,counts = np.unique(input,return_counts=True)\n",
        "  # pixel_input = dict(zip( uniques,counts))\n",
        "  # for key, value in pixel_input.items():\n",
        "  #   try:\n",
        "  #     intensity_pixel_input[key] += value\n",
        "  #   except KeyError :\n",
        "  #     intensity_pixel_input[key] = value\n",
        "  # intensity_pixel_distribution_input = pd.DataFrame({\"key\": intensity_pixel_input.keys(),\"values\": intensity_pixel_input.values()})\n",
        "  # fig = plt.figure(1, figsize=(12,12))\n",
        "  # plt.subplot(2, 4, 5)\n",
        "  # plt.title(\"Distribution des pixels\")\n",
        "  # plt.bar(intensity_pixel_distribution_input[\"key\"], intensity_pixel_distribution_input[\"values\"]/sum(intensity_pixel_distribution_input[\"values\"]))\n",
        "\n",
        "  print(\"Input shape: \", input.shape)\n",
        "  # print(\"Nombre de valeurs distinctes de pixel input: \", np.unique(input,return_counts=True)[0].shape[0])\n",
        "  # print(\"Valeurs distinctes de pixel input: \", np.unique(input,return_counts=True)[0])\n",
        "  fig = plt.figure(1, figsize=(12,12))\n",
        "  plt.subplot(2, 4, 1)\n",
        "  plt.imshow(input, cmap=plt.cm.gray)\n",
        "  plt.title(\"Input\")\n",
        "\n",
        "  output = df.loc[indice_patient, \"Outputs\"]\n",
        "  # On regarde la distribution des pixels\n",
        "  intensity_pixel_output = {}\n",
        "  uniques,counts = np.unique(output,return_counts=True)\n",
        "  pixel_output = dict(zip( uniques,counts))\n",
        "  for key,value in pixel_output.items():\n",
        "    try:\n",
        "      intensity_pixel_output[key] += value\n",
        "    except KeyError :\n",
        "      intensity_pixel_output[key] = value\n",
        "  intensity_pixel_distribution_output = pd.DataFrame({\"key\": intensity_pixel_output.keys(),\"values\": intensity_pixel_output.values()})\n",
        "  fig = plt.figure(1, figsize=(12,12))\n",
        "  plt.subplot(2, 4, 6)\n",
        "  plt.title(\"Distribution des pixels\")\n",
        "  plt.bar(intensity_pixel_distribution_output[\"key\"], intensity_pixel_distribution_output[\"values\"]/sum(intensity_pixel_distribution_output[\"values\"]))\n",
        "\n",
        "  print(\"Nombre de valeurs distinctes de pixel Mask: \", np.unique(output,return_counts=True)[0].shape[0])\n",
        "  print(\"Valeurs distinctes de pixel Mask: \", np.unique(output,return_counts=True)[0])\n",
        "  # print(\"Valeurs distinctes de pixel output: \", np.unique(output,return_counts=True))\n",
        "  fig = plt.figure(1, figsize=(12,12))\n",
        "  plt.subplot(2, 4, 2)\n",
        "  plt.imshow(output, cmap=plt.cm.gray)\n",
        "  plt.title(\"Mask\")\n",
        "\n",
        "  # Après resize\n",
        "  output = resize(output, (IMAGE_HEIGHT, IMAGE_WIDHT), Image.NEAREST, mode = 'constant', preserve_range = True)\n",
        "  # On regarde la distribution des pixels\n",
        "  intensity_pixel_output = {}\n",
        "  uniques,counts = np.unique(output,return_counts=True)\n",
        "  pixel_output = dict(zip( uniques,counts))\n",
        "  for key,value in pixel_output.items():\n",
        "    try:\n",
        "      intensity_pixel_output[key] += value\n",
        "    except KeyError :\n",
        "      intensity_pixel_output[key] = value\n",
        "  intensity_pixel_distribution_output = pd.DataFrame({\"key\": intensity_pixel_output.keys(),\"values\": intensity_pixel_output.values()})\n",
        "  fig = plt.figure(1, figsize=(12,12))\n",
        "  plt.subplot(2, 4, 7)\n",
        "  plt.title(\"Distribution des pixels\")\n",
        "  plt.bar(intensity_pixel_distribution_output[\"key\"], intensity_pixel_distribution_output[\"values\"]/sum(intensity_pixel_distribution_output[\"values\"]))\n",
        "\n",
        "  print(\"Nombre de valeurs distinctes de pixel mask après resize: \", np.unique(output,return_counts=True)[0].shape[0])\n",
        "  print(\"Valeurs distinctes de pixel mask après resize: \", np.unique(output,return_counts=True)[0])\n",
        "  # print(\"Valeurs distinctes de pixel mask après resize: \", np.unique(output,return_counts=True))\n",
        "  fig = plt.figure(1, figsize=(12,12))\n",
        "  plt.subplot(2, 4, 3)\n",
        "  plt.imshow(output, cmap=plt.cm.gray)\n",
        "  plt.title(\"Mask après resize\")\n",
        "\n",
        "  # final\n",
        "  output = encode_preds(df.loc[indice_patient, \"Outputs_resized_scaled\"])\n",
        "  # On regarde la distribution des pixels\n",
        "  intensity_pixel_output = {}\n",
        "  uniques,counts = np.unique(output,return_counts=True)\n",
        "  pixel_output = dict(zip( uniques,counts))\n",
        "  for key,value in pixel_output.items():\n",
        "    try:\n",
        "      intensity_pixel_output[key] += value\n",
        "    except KeyError :\n",
        "      intensity_pixel_output[key] = value\n",
        "  intensity_pixel_distribution_output = pd.DataFrame({\"key\": intensity_pixel_output.keys(),\"values\": intensity_pixel_output.values()})\n",
        "  fig = plt.figure(1, figsize=(12,12))\n",
        "  plt.subplot(2, 4, 8)\n",
        "  plt.title(\"Distribution des pixels\")\n",
        "  plt.bar(intensity_pixel_distribution_output[\"key\"], intensity_pixel_distribution_output[\"values\"]/sum(intensity_pixel_distribution_output[\"values\"]))\n",
        "\n",
        "  print(\"Nombre de valeurs distinctes de pixel Output: \", np.unique(output,return_counts=True)[0].shape[0])\n",
        "  # print(\"Valeurs distinctes de pixel Output: \", np.unique(output,return_counts=True)[0])\n",
        "  # print(\"Valeurs distinctes de pixel Output: \", np.unique(output,return_counts=True))\n",
        "  fig = plt.figure(1, figsize=(12,12))\n",
        "  plt.subplot(2, 4, 4)\n",
        "  plt.imshow(output, interpolation='nearest')\n",
        "  plt.title(\"Output\")\n",
        "\n",
        "  colors = ['green','purple']\n",
        "\n",
        "  labels = [\"foie\", \"lésion\"]\n",
        "\n",
        "  patches = [mpatches.Patch(color=colors[i], label=f\"{labels[i]}\") for i in range(len(labels))]\n",
        "\n",
        "  plt.legend(\n",
        "              handles=patches,\n",
        "              bbox_to_anchor=(1.1, 0.65),\n",
        "              loc=2,\n",
        "              borderaxespad=0.4,\n",
        "              fontsize=14,\n",
        "              title=\"Mask Labels\",\n",
        "              title_fontsize=14,\n",
        "              edgecolor=\"black\",\n",
        "              facecolor=\"#c5c6c7\",\n",
        "          )\n",
        "\n",
        "  plt.show()"
      ],
      "id": "nuAsf0D5oKr9"
    },
    {
      "cell_type": "code",
      "execution_count": null,
      "metadata": {
        "id": "bS0wgwBbFUq9"
      },
      "outputs": [],
      "source": [
        "file = 25\n",
        "path_output = OUTPUTS_PATH + '/Patient ' + str(file) +'.nrrd'\n",
        "path_input_dir = INPUTS_PATH + '/'+ str(file)\n",
        "data, header = nd.read(path_output)\n",
        "number_coupe = data.shape[-1] \n",
        "dim_output = len(data.shape)\n",
        "# Chaque patient a différent coupe donc on va parcourir les coupes en entrées et en sorties pour chaque patient en faisant la correspondance entre les deux\n",
        "for coupe in range(number_coupe):\n",
        "  print(\"\\n----------------------------------------------------------------------------------------------------------------------------------------------------------------\\n----------------------------------------------------------------------------------------------------------------------------------------------------------------\")\n",
        "  print(\"Patient: \", file)\n",
        "  print(\"Nombre de coupe: \", number_coupe)\n",
        "  print(\"Coupe n°: \", coupe+1)\n",
        "  print(\"Output shape: \", data.shape)\n",
        "  \n",
        "  for input in os.listdir(path_input_dir):\n",
        "      if dim_output == 3:\n",
        "        if str(coupe+1) == input.split(\".\")[-2].replace(\"Img\", \"\"):\n",
        "          path_input = path_input_dir + '/' + input\n",
        "          input = dcmread(path_input).pixel_array\n",
        "          # On regarde la distribution des pixels\n",
        "          # intensity_pixel_input = {}\n",
        "          # uniques,counts = np.unique(input,return_counts=True)\n",
        "          # pixel_input = dict(zip( uniques,counts))\n",
        "          # for key, value in pixel_input.items():\n",
        "          #   try:\n",
        "          #     intensity_pixel_input[key] += value\n",
        "          #   except KeyError :\n",
        "          #     intensity_pixel_input[key] = value\n",
        "          # intensity_pixel_distribution_input = pd.DataFrame({\"key\": intensity_pixel_input.keys(),\"values\": intensity_pixel_input.values()})\n",
        "          # fig = plt.figure(1, figsize=(10,10))\n",
        "          # plt.subplot(2, 2, 4)\n",
        "          # plt.title(\"Distribution des pixels\")\n",
        "          # plt.bar(intensity_pixel_distribution_input[\"key\"], intensity_pixel_distribution_input[\"values\"]/sum(intensity_pixel_distribution_input[\"values\"]))\n",
        "\n",
        "          print(\"Input shape: \", input.shape)\n",
        "          # print(\"Nombre de valeurs distinctes de pixel input: \", np.unique(input,return_counts=True)[0].shape[0])\n",
        "          # print(\"Valeurs distinctes de pixel input: \", np.unique(input,return_counts=True)[0])\n",
        "          fig = plt.figure(1, figsize=(10,10))\n",
        "          plt.subplot(2, 2, 1)\n",
        "          plt.imshow(input, cmap=plt.cm.gray)\n",
        "          plt.title(\"Input\")\n",
        "\n",
        "          output = data[:, :, coupe].T\n",
        "          # On regarde la distribution des pixels\n",
        "          intensity_pixel_output = {}\n",
        "          uniques,counts = np.unique(output,return_counts=True)\n",
        "          pixel_output = dict(zip( uniques,counts))\n",
        "          for key,value in pixel_output.items():\n",
        "            try:\n",
        "              intensity_pixel_output[key] += value\n",
        "            except KeyError :\n",
        "              intensity_pixel_output[key] = value\n",
        "          intensity_pixel_distribution_output = pd.DataFrame({\"key\": intensity_pixel_output.keys(),\"values\": intensity_pixel_output.values()})\n",
        "          fig = plt.figure(1, figsize=(10,10))\n",
        "          plt.subplot(2, 2, 4)\n",
        "          plt.title(\"Distribution des pixels\")\n",
        "          plt.bar(intensity_pixel_distribution_output[\"key\"], intensity_pixel_distribution_output[\"values\"]/sum(intensity_pixel_distribution_output[\"values\"]))\n",
        "\n",
        "          print(\"Nombre de valeurs distinctes de pixel mask: \", np.unique(output,return_counts=True)[0].shape[0])\n",
        "          print(\"Valeurs distinctes de pixel mask: \", np.unique(output,return_counts=True)[0])\n",
        "          fig = plt.figure(1, figsize=(10,10))\n",
        "          plt.subplot(2, 2, 2)\n",
        "          plt.imshow(output, cmap=plt.cm.gray)\n",
        "          plt.title(\"Mask\")\n",
        "\n",
        "          \n",
        "        \n",
        "          \n",
        "\n",
        "      elif dim_output != 3:\n",
        "          if str(coupe+1) == input.split(\".\")[-2].replace(\"Img\", \"\"):\n",
        "            path_input = path_input_dir + '/' + input\n",
        "            input = dcmread(path_input).pixel_array\n",
        "            # On regarde la distribution des pixels\n",
        "            # intensity_pixel_input = {}\n",
        "            # uniques,counts = np.unique(input,return_counts=True)\n",
        "            # pixel_input = dict(zip( uniques,counts))\n",
        "            # for key, value in pixel_input.items():\n",
        "            #   try:\n",
        "            #     intensity_pixel_input[key] += value\n",
        "            #   except KeyError :\n",
        "            #     intensity_pixel_input[key] = value\n",
        "            # intensity_pixel_distribution_input = pd.DataFrame({\"key\": intensity_pixel_input.keys(),\"values\": intensity_pixel_input.values()})\n",
        "            # fig = plt.figure(1, figsize=(10,10))\n",
        "            # plt.subplot(2, 2, 4)\n",
        "            # plt.title(\"Distribution des pixels\")\n",
        "            # plt.bar(intensity_pixel_distribution_input[\"key\"], intensity_pixel_distribution_input[\"values\"]/sum(intensity_pixel_distribution_input[\"values\"]))\n",
        "\n",
        "            print(\"Input shape: \", input.shape)\n",
        "            # print(\"Nombre de valeurs distinctes de pixel input: \", np.unique(input,return_counts=True)[0].shape[0])\n",
        "            # print(\"Valeurs distinctes de pixel input: \", np.unique(input,return_counts=True)[0])\n",
        "            fig = plt.figure(1, figsize=(10,10))\n",
        "            plt.subplot(2, 2, 1)\n",
        "            plt.imshow(input, cmap=plt.cm.gray)\n",
        "            plt.title(\"Input\")\n",
        "\n",
        "          \n",
        "            data[1, :, :, coupe] = data[0, :, :, coupe] + data[1, :, :, coupe]\n",
        "            output = data[1, :, :, coupe].T\n",
        "            # On regarde la distribution des pixels\n",
        "            intensity_pixel_output = {}\n",
        "            uniques,counts = np.unique(output,return_counts=True)\n",
        "            pixel_output = dict(zip( uniques,counts))\n",
        "            for key,value in pixel_output.items():\n",
        "              try:\n",
        "                intensity_pixel_output[key] += value\n",
        "              except KeyError :\n",
        "                intensity_pixel_output[key] = value\n",
        "            intensity_pixel_distribution_output = pd.DataFrame({\"key\": intensity_pixel_output.keys(),\"values\": intensity_pixel_output.values()})\n",
        "            fig = plt.figure(1, figsize=(10,10))\n",
        "            plt.subplot(2, 2, 4)\n",
        "            plt.title(\"Distribution des pixels\")\n",
        "            plt.bar(intensity_pixel_distribution_output[\"key\"], intensity_pixel_distribution_output[\"values\"]/sum(intensity_pixel_distribution_output[\"values\"]))\n",
        "            # On regarde la distribution des pixels\n",
        "            print(\"Nombre de valeurs distinctes de pixel mask: \", np.unique(output,return_counts=True)[0].shape[0])\n",
        "            print(\"Valeurs distinctes de pixel mask: \", np.unique(output,return_counts=True)[0])\n",
        "            fig = plt.figure(1, figsize=(10,10))\n",
        "            plt.subplot(2, 2, 2)\n",
        "            plt.imshow(output, cmap=plt.cm.gray)\n",
        "            plt.title(\"Mask\")\n",
        "          \n",
        "\n",
        "      \n",
        "      plt.show()"
      ],
      "id": "bS0wgwBbFUq9"
    },
    {
      "cell_type": "code",
      "execution_count": null,
      "metadata": {
        "id": "Bk3KzHOsqSuz"
      },
      "outputs": [],
      "source": [
        "file = 40\n",
        "path_output = OUTPUTS_PATH + '/Patient ' + str(file) +'.nrrd'\n",
        "path_input_dir = INPUTS_PATH + '/'+ str(file)\n",
        "data, header = nd.read(path_output)\n",
        "number_coupe = data.shape[-1] \n",
        "dim_output = len(data.shape)\n",
        "# Chaque patient a différent coupe donc on va parcourir les coupes en entrées et en sorties pour chaque patient en faisant la correspondance entre les deux\n",
        "for coupe in range(number_coupe):\n",
        "  print(\"\\n----------------------------------------------------------------------------------------------------------------------------------------------------------------\\n----------------------------------------------------------------------------------------------------------------------------------------------------------------\")\n",
        "  print(\"Patient: \", file)\n",
        "  print(\"Nombre de coupe: \", number_coupe)\n",
        "  print(\"Coupe n°: \", coupe+1)\n",
        "  print(\"Output shape: \", data.shape)\n",
        "  \n",
        "  for input in os.listdir(path_input_dir):\n",
        "      if dim_output == 3:\n",
        "        if str(coupe+1) == input.split(\".\")[-2].replace(\"Img\", \"\"):\n",
        "          path_input = path_input_dir + '/' + input\n",
        "          input = dcmread(path_input).pixel_array\n",
        "          # On regarde la distribution des pixels\n",
        "          # intensity_pixel_input = {}\n",
        "          # uniques,counts = np.unique(input,return_counts=True)\n",
        "          # pixel_input = dict(zip( uniques,counts))\n",
        "          # for key, value in pixel_input.items():\n",
        "          #   try:\n",
        "          #     intensity_pixel_input[key] += value\n",
        "          #   except KeyError :\n",
        "          #     intensity_pixel_input[key] = value\n",
        "          # intensity_pixel_distribution_input = pd.DataFrame({\"key\": intensity_pixel_input.keys(),\"values\": intensity_pixel_input.values()})\n",
        "          # fig = plt.figure(1, figsize=(10,10))\n",
        "          # plt.subplot(2, 2, 4)\n",
        "          # plt.title(\"Distribution des pixels\")\n",
        "          # plt.bar(intensity_pixel_distribution_input[\"key\"], intensity_pixel_distribution_input[\"values\"]/sum(intensity_pixel_distribution_input[\"values\"]))\n",
        "\n",
        "          print(\"Input shape: \", input.shape)\n",
        "          # print(\"Nombre de valeurs distinctes de pixel input: \", np.unique(input,return_counts=True)[0].shape[0])\n",
        "          # print(\"Valeurs distinctes de pixel input: \", np.unique(input,return_counts=True)[0])\n",
        "          fig = plt.figure(1, figsize=(10,10))\n",
        "          plt.subplot(2, 2, 1)\n",
        "          plt.imshow(input, cmap=plt.cm.gray)\n",
        "          plt.title(\"Input\")\n",
        "\n",
        "          output = data[:, :, coupe].T\n",
        "          # On regarde la distribution des pixels\n",
        "          intensity_pixel_output = {}\n",
        "          uniques,counts = np.unique(output,return_counts=True)\n",
        "          pixel_output = dict(zip( uniques,counts))\n",
        "          for key,value in pixel_output.items():\n",
        "            try:\n",
        "              intensity_pixel_output[key] += value\n",
        "            except KeyError :\n",
        "              intensity_pixel_output[key] = value\n",
        "          intensity_pixel_distribution_output = pd.DataFrame({\"key\": intensity_pixel_output.keys(),\"values\": intensity_pixel_output.values()})\n",
        "          fig = plt.figure(1, figsize=(10,10))\n",
        "          plt.subplot(2, 2, 4)\n",
        "          plt.title(\"Distribution des pixels\")\n",
        "          plt.bar(intensity_pixel_distribution_output[\"key\"], intensity_pixel_distribution_output[\"values\"]/sum(intensity_pixel_distribution_output[\"values\"]))\n",
        "\n",
        "          print(\"Nombre de valeurs distinctes de pixel mask: \", np.unique(output,return_counts=True)[0].shape[0])\n",
        "          print(\"Valeurs distinctes de pixel mask: \", np.unique(output,return_counts=True)[0])\n",
        "          fig = plt.figure(1, figsize=(10,10))\n",
        "          plt.subplot(2, 2, 2)\n",
        "          plt.imshow(output, cmap=plt.cm.gray)\n",
        "          plt.title(\"Mask\")\n",
        "\n",
        "      \n",
        "          \n",
        "\n",
        "      elif dim_output != 3:\n",
        "          if str(coupe+1) == input.split(\".\")[-2].replace(\"Img\", \"\"):\n",
        "            path_input = path_input_dir + '/' + input\n",
        "            input = dcmread(path_input).pixel_array\n",
        "            # On regarde la distribution des pixels\n",
        "            # intensity_pixel_input = {}\n",
        "            # uniques,counts = np.unique(input,return_counts=True)\n",
        "            # pixel_input = dict(zip( uniques,counts))\n",
        "            # for key, value in pixel_input.items():\n",
        "            #   try:\n",
        "            #     intensity_pixel_input[key] += value\n",
        "            #   except KeyError :\n",
        "            #     intensity_pixel_input[key] = value\n",
        "            # intensity_pixel_distribution_input = pd.DataFrame({\"key\": intensity_pixel_input.keys(),\"values\": intensity_pixel_input.values()})\n",
        "            # fig = plt.figure(1, figsize=(10,10))\n",
        "            # plt.subplot(2, 2, 4)\n",
        "            # plt.title(\"Distribution des pixels\")\n",
        "            # plt.bar(intensity_pixel_distribution_input[\"key\"], intensity_pixel_distribution_input[\"values\"]/sum(intensity_pixel_distribution_input[\"values\"]))\n",
        "\n",
        "            print(\"Input shape: \", input.shape)\n",
        "            # print(\"Nombre de valeurs distinctes de pixel input: \", np.unique(input,return_counts=True)[0].shape[0])\n",
        "            # print(\"Valeurs distinctes de pixel input: \", np.unique(input,return_counts=True)[0])\n",
        "            fig = plt.figure(1, figsize=(10,10))\n",
        "            plt.subplot(2, 2, 1)\n",
        "            plt.imshow(input, cmap=plt.cm.gray)\n",
        "            plt.title(\"Input\")\n",
        "\n",
        "         \n",
        "            data[1, :, :, coupe] = data[0, :, :, coupe] + data[1, :, :, coupe]\n",
        "            output = data[1, :, :, coupe].T\n",
        "            # On regarde la distribution des pixels\n",
        "            intensity_pixel_output = {}\n",
        "            uniques,counts = np.unique(output,return_counts=True)\n",
        "            pixel_output = dict(zip( uniques,counts))\n",
        "            for key,value in pixel_output.items():\n",
        "              try:\n",
        "                intensity_pixel_output[key] += value\n",
        "              except KeyError :\n",
        "                intensity_pixel_output[key] = value\n",
        "            intensity_pixel_distribution_output = pd.DataFrame({\"key\": intensity_pixel_output.keys(),\"values\": intensity_pixel_output.values()})\n",
        "            fig = plt.figure(1, figsize=(10,10))\n",
        "            plt.subplot(2, 2, 4)\n",
        "            plt.title(\"Distribution des pixels\")\n",
        "            plt.bar(intensity_pixel_distribution_output[\"key\"], intensity_pixel_distribution_output[\"values\"]/sum(intensity_pixel_distribution_output[\"values\"]))\n",
        "            # On regarde la distribution des pixels\n",
        "            print(\"Nombre de valeurs distinctes de pixel mask: \", np.unique(output,return_counts=True)[0].shape[0])\n",
        "            print(\"Valeurs distinctes de pixel mask: \", np.unique(output,return_counts=True)[0])\n",
        "            fig = plt.figure(1, figsize=(10,10))\n",
        "            plt.subplot(2, 2, 2)\n",
        "            plt.imshow(output, cmap=plt.cm.gray)\n",
        "            plt.title(\"Mask\")\n",
        "\n",
        "      \n",
        "      plt.show()"
      ],
      "id": "Bk3KzHOsqSuz"
    },
    {
      "cell_type": "markdown",
      "metadata": {
        "id": "aAklY8DshQMe"
      },
      "source": [
        "# Constitution de la base de donnée train et test"
      ],
      "id": "aAklY8DshQMe"
    },
    {
      "cell_type": "code",
      "execution_count": 37,
      "metadata": {
        "colab": {
          "base_uri": "https://localhost:8080/"
        },
        "id": "DZiibO6YzcSS",
        "outputId": "6f96ef59-e7f8-463f-d824-b9f883bcfd09"
      },
      "outputs": [
        {
          "output_type": "execute_result",
          "data": {
            "text/plain": [
              "2667"
            ]
          },
          "metadata": {},
          "execution_count": 37
        }
      ],
      "source": [
        "X = df[\"Inputs_resized_scaled\"]\n",
        "len(X)"
      ],
      "id": "DZiibO6YzcSS"
    },
    {
      "cell_type": "code",
      "execution_count": 38,
      "metadata": {
        "colab": {
          "base_uri": "https://localhost:8080/"
        },
        "id": "v_HUkRtfMbrZ",
        "outputId": "4d762ac6-60f5-423d-e202-d6ca736e63b4"
      },
      "outputs": [
        {
          "output_type": "execute_result",
          "data": {
            "text/plain": [
              "2667"
            ]
          },
          "metadata": {},
          "execution_count": 38
        }
      ],
      "source": [
        "Y = df[\"Outputs_resized_scaled\"]\n",
        "len(Y)"
      ],
      "id": "v_HUkRtfMbrZ"
    },
    {
      "cell_type": "code",
      "execution_count": 39,
      "metadata": {
        "id": "wG7CeiW7unpQ"
      },
      "outputs": [],
      "source": [
        "# Split train and valid\n",
        "X_train, X_valid, y_train, y_valid = train_test_split(np.array([np.array(x) for x in X]), np.array([np.array(y) for y in Y]), test_size=0.2)"
      ],
      "id": "wG7CeiW7unpQ"
    },
    {
      "cell_type": "code",
      "execution_count": 40,
      "metadata": {
        "colab": {
          "base_uri": "https://localhost:8080/"
        },
        "id": "mzAUe8gB0qgL",
        "outputId": "04613b5d-92b6-4502-b37c-71294d9ed475"
      },
      "outputs": [
        {
          "output_type": "execute_result",
          "data": {
            "text/plain": [
              "((2133, 128, 128, 1), (534, 128, 128, 2))"
            ]
          },
          "metadata": {},
          "execution_count": 40
        }
      ],
      "source": [
        "X_train.shape, y_valid.shape"
      ],
      "id": "mzAUe8gB0qgL"
    },
    {
      "cell_type": "markdown",
      "metadata": {
        "id": "6FIFdAgbhW9V"
      },
      "source": [
        "# Entrainement du modèle"
      ],
      "id": "6FIFdAgbhW9V"
    },
    {
      "cell_type": "code",
      "execution_count": 41,
      "metadata": {
        "id": "7yKedjMiu3En"
      },
      "outputs": [],
      "source": [
        "input_img = Input((IMAGE_HEIGHT, IMAGE_WIDHT, 1), name='img')\n",
        "\n",
        "data_augmentation = tf.keras.Sequential([\n",
        "  layers.RandomFlip(\"horizontal_and_vertical\"),\n",
        "  layers.RandomRotation(0.2),\n",
        "  layers.RandomZoom(0.2)\n",
        "])\n",
        "\n",
        "input_img = data_augmentation(input_img)\n",
        "\n",
        "model = get_unet(input_img, n_filters=16, dropout=0.05, batchnorm=True)\n",
        "model.compile(optimizer=Adam(), loss=\"binary_crossentropy\", metrics=[\"accuracy\", dice_coef, jacard_coef])"
      ],
      "id": "7yKedjMiu3En"
    },
    {
      "cell_type": "code",
      "execution_count": 42,
      "metadata": {
        "colab": {
          "base_uri": "https://localhost:8080/"
        },
        "id": "UrWgVofou99P",
        "outputId": "daffe85a-e0df-4d81-8988-1ce1fe0d72b4"
      },
      "outputs": [
        {
          "output_type": "stream",
          "name": "stdout",
          "text": [
            "Model: \"U-net\"\n",
            "__________________________________________________________________________________________________\n",
            " Layer (type)                   Output Shape         Param #     Connected to                     \n",
            "==================================================================================================\n",
            " input_1 (InputLayer)           [(None, 128, 128, 1  0           []                               \n",
            "                                )]                                                                \n",
            "                                                                                                  \n",
            " conv2d_20 (Conv2D)             (None, 128, 128, 16  160         ['input_1[0][0]']                \n",
            "                                )                                                                 \n",
            "                                                                                                  \n",
            " batch_normalization_19 (BatchN  (None, 128, 128, 16  64         ['conv2d_20[1][0]']              \n",
            " ormalization)                  )                                                                 \n",
            "                                                                                                  \n",
            " activation_19 (Activation)     (None, 128, 128, 16  0           ['batch_normalization_19[1][0]'] \n",
            "                                )                                                                 \n",
            "                                                                                                  \n",
            " max_pooling2d_4 (MaxPooling2D)  (None, 64, 64, 16)  0           ['activation_19[1][0]']          \n",
            "                                                                                                  \n",
            " dropout_8 (Dropout)            (None, 64, 64, 16)   0           ['max_pooling2d_4[1][0]']        \n",
            "                                                                                                  \n",
            " conv2d_22 (Conv2D)             (None, 64, 64, 32)   4640        ['dropout_8[1][0]']              \n",
            "                                                                                                  \n",
            " batch_normalization_21 (BatchN  (None, 64, 64, 32)  128         ['conv2d_22[1][0]']              \n",
            " ormalization)                                                                                    \n",
            "                                                                                                  \n",
            " activation_21 (Activation)     (None, 64, 64, 32)   0           ['batch_normalization_21[1][0]'] \n",
            "                                                                                                  \n",
            " max_pooling2d_5 (MaxPooling2D)  (None, 32, 32, 32)  0           ['activation_21[1][0]']          \n",
            "                                                                                                  \n",
            " dropout_9 (Dropout)            (None, 32, 32, 32)   0           ['max_pooling2d_5[1][0]']        \n",
            "                                                                                                  \n",
            " conv2d_24 (Conv2D)             (None, 32, 32, 64)   18496       ['dropout_9[1][0]']              \n",
            "                                                                                                  \n",
            " batch_normalization_23 (BatchN  (None, 32, 32, 64)  256         ['conv2d_24[1][0]']              \n",
            " ormalization)                                                                                    \n",
            "                                                                                                  \n",
            " activation_23 (Activation)     (None, 32, 32, 64)   0           ['batch_normalization_23[1][0]'] \n",
            "                                                                                                  \n",
            " max_pooling2d_6 (MaxPooling2D)  (None, 16, 16, 64)  0           ['activation_23[1][0]']          \n",
            "                                                                                                  \n",
            " dropout_10 (Dropout)           (None, 16, 16, 64)   0           ['max_pooling2d_6[1][0]']        \n",
            "                                                                                                  \n",
            " conv2d_26 (Conv2D)             (None, 16, 16, 128)  73856       ['dropout_10[1][0]']             \n",
            "                                                                                                  \n",
            " batch_normalization_25 (BatchN  (None, 16, 16, 128)  512        ['conv2d_26[1][0]']              \n",
            " ormalization)                                                                                    \n",
            "                                                                                                  \n",
            " activation_25 (Activation)     (None, 16, 16, 128)  0           ['batch_normalization_25[1][0]'] \n",
            "                                                                                                  \n",
            " max_pooling2d_7 (MaxPooling2D)  (None, 8, 8, 128)   0           ['activation_25[1][0]']          \n",
            "                                                                                                  \n",
            " dropout_11 (Dropout)           (None, 8, 8, 128)    0           ['max_pooling2d_7[1][0]']        \n",
            "                                                                                                  \n",
            " conv2d_28 (Conv2D)             (None, 8, 8, 256)    295168      ['dropout_11[1][0]']             \n",
            "                                                                                                  \n",
            " batch_normalization_27 (BatchN  (None, 8, 8, 256)   1024        ['conv2d_28[1][0]']              \n",
            " ormalization)                                                                                    \n",
            "                                                                                                  \n",
            " activation_27 (Activation)     (None, 8, 8, 256)    0           ['batch_normalization_27[1][0]'] \n",
            "                                                                                                  \n",
            " conv2d_transpose_4 (Conv2DTran  (None, 16, 16, 128)  295040     ['activation_27[1][0]']          \n",
            " spose)                                                                                           \n",
            "                                                                                                  \n",
            " concatenate_4 (Concatenate)    (None, 16, 16, 256)  0           ['conv2d_transpose_4[1][0]',     \n",
            "                                                                  'activation_25[1][0]']          \n",
            "                                                                                                  \n",
            " dropout_12 (Dropout)           (None, 16, 16, 256)  0           ['concatenate_4[1][0]']          \n",
            "                                                                                                  \n",
            " conv2d_30 (Conv2D)             (None, 16, 16, 128)  295040      ['dropout_12[1][0]']             \n",
            "                                                                                                  \n",
            " batch_normalization_29 (BatchN  (None, 16, 16, 128)  512        ['conv2d_30[1][0]']              \n",
            " ormalization)                                                                                    \n",
            "                                                                                                  \n",
            " activation_29 (Activation)     (None, 16, 16, 128)  0           ['batch_normalization_29[1][0]'] \n",
            "                                                                                                  \n",
            " conv2d_transpose_5 (Conv2DTran  (None, 32, 32, 64)  73792       ['activation_29[1][0]']          \n",
            " spose)                                                                                           \n",
            "                                                                                                  \n",
            " concatenate_5 (Concatenate)    (None, 32, 32, 128)  0           ['conv2d_transpose_5[1][0]',     \n",
            "                                                                  'activation_23[1][0]']          \n",
            "                                                                                                  \n",
            " dropout_13 (Dropout)           (None, 32, 32, 128)  0           ['concatenate_5[1][0]']          \n",
            "                                                                                                  \n",
            " conv2d_32 (Conv2D)             (None, 32, 32, 64)   73792       ['dropout_13[1][0]']             \n",
            "                                                                                                  \n",
            " batch_normalization_31 (BatchN  (None, 32, 32, 64)  256         ['conv2d_32[1][0]']              \n",
            " ormalization)                                                                                    \n",
            "                                                                                                  \n",
            " activation_31 (Activation)     (None, 32, 32, 64)   0           ['batch_normalization_31[1][0]'] \n",
            "                                                                                                  \n",
            " conv2d_transpose_6 (Conv2DTran  (None, 64, 64, 32)  18464       ['activation_31[1][0]']          \n",
            " spose)                                                                                           \n",
            "                                                                                                  \n",
            " concatenate_6 (Concatenate)    (None, 64, 64, 64)   0           ['conv2d_transpose_6[1][0]',     \n",
            "                                                                  'activation_21[1][0]']          \n",
            "                                                                                                  \n",
            " dropout_14 (Dropout)           (None, 64, 64, 64)   0           ['concatenate_6[1][0]']          \n",
            "                                                                                                  \n",
            " conv2d_34 (Conv2D)             (None, 64, 64, 32)   18464       ['dropout_14[1][0]']             \n",
            "                                                                                                  \n",
            " batch_normalization_33 (BatchN  (None, 64, 64, 32)  128         ['conv2d_34[1][0]']              \n",
            " ormalization)                                                                                    \n",
            "                                                                                                  \n",
            " activation_33 (Activation)     (None, 64, 64, 32)   0           ['batch_normalization_33[1][0]'] \n",
            "                                                                                                  \n",
            " conv2d_transpose_7 (Conv2DTran  (None, 128, 128, 16  4624       ['activation_33[1][0]']          \n",
            " spose)                         )                                                                 \n",
            "                                                                                                  \n",
            " concatenate_7 (Concatenate)    (None, 128, 128, 32  0           ['conv2d_transpose_7[1][0]',     \n",
            "                                )                                 'activation_19[1][0]']          \n",
            "                                                                                                  \n",
            " dropout_15 (Dropout)           (None, 128, 128, 32  0           ['concatenate_7[1][0]']          \n",
            "                                )                                                                 \n",
            "                                                                                                  \n",
            " conv2d_36 (Conv2D)             (None, 128, 128, 16  4624        ['dropout_15[1][0]']             \n",
            "                                )                                                                 \n",
            "                                                                                                  \n",
            " batch_normalization_35 (BatchN  (None, 128, 128, 16  64         ['conv2d_36[1][0]']              \n",
            " ormalization)                  )                                                                 \n",
            "                                                                                                  \n",
            " activation_35 (Activation)     (None, 128, 128, 16  0           ['batch_normalization_35[1][0]'] \n",
            "                                )                                                                 \n",
            "                                                                                                  \n",
            " conv2d_37 (Conv2D)             (None, 128, 128, 2)  34          ['activation_35[1][0]']          \n",
            "                                                                                                  \n",
            "==================================================================================================\n",
            "Total params: 1,179,138\n",
            "Trainable params: 1,177,666\n",
            "Non-trainable params: 1,472\n",
            "__________________________________________________________________________________________________\n"
          ]
        }
      ],
      "source": [
        "model.summary()"
      ],
      "id": "UrWgVofou99P"
    },
    {
      "cell_type": "code",
      "execution_count": 43,
      "metadata": {
        "id": "Q5qF63HtvAbP"
      },
      "outputs": [],
      "source": [
        "callbacks = [\n",
        "    EarlyStopping(monitor='val_dice_coef', patience=10, restore_best_weights=True, verbose=1, mode=\"max\"),\n",
        "    ReduceLROnPlateau(factor=0.1, patience=10, min_lr=0.00001, verbose=1),\n",
        "    # ModelCheckpoint('model.h5', monitor='val_jacard_coef', mode='max', verbose=1, save_best_only=True, save_weights_only=True)\n",
        "]"
      ],
      "id": "Q5qF63HtvAbP"
    },
    {
      "cell_type": "code",
      "execution_count": 44,
      "metadata": {
        "colab": {
          "base_uri": "https://localhost:8080/"
        },
        "id": "dYIWHKM4vDJX",
        "outputId": "95764265-2ebd-4d9d-c5a6-f551dfe7bddc"
      },
      "outputs": [
        {
          "output_type": "stream",
          "name": "stdout",
          "text": [
            "Epoch 1/60\n",
            "23/23 [==============================] - 173s 7s/step - loss: 0.5142 - accuracy: 0.4103 - dice_coef: 0.3113 - jacard_coef: 0.1856 - val_loss: 0.5283 - val_accuracy: 0.7504 - val_dice_coef: 0.4138 - val_jacard_coef: 0.2612 - lr: 0.0010\n",
            "Epoch 2/60\n",
            "23/23 [==============================] - 166s 7s/step - loss: 0.3425 - accuracy: 0.4543 - dice_coef: 0.4095 - jacard_coef: 0.2578 - val_loss: 0.5181 - val_accuracy: 0.5495 - val_dice_coef: 0.4302 - val_jacard_coef: 0.2743 - lr: 0.0010\n",
            "Epoch 3/60\n",
            "23/23 [==============================] - 165s 7s/step - loss: 0.2754 - accuracy: 0.4858 - dice_coef: 0.4679 - jacard_coef: 0.3055 - val_loss: 0.4713 - val_accuracy: 0.4188 - val_dice_coef: 0.4081 - val_jacard_coef: 0.2565 - lr: 0.0010\n",
            "Epoch 4/60\n",
            "23/23 [==============================] - 168s 7s/step - loss: 0.2380 - accuracy: 0.4951 - dice_coef: 0.5058 - jacard_coef: 0.3386 - val_loss: 0.3862 - val_accuracy: 0.4202 - val_dice_coef: 0.4504 - val_jacard_coef: 0.2908 - lr: 0.0010\n",
            "Epoch 5/60\n",
            "23/23 [==============================] - 165s 7s/step - loss: 0.2128 - accuracy: 0.5038 - dice_coef: 0.5366 - jacard_coef: 0.3668 - val_loss: 0.2815 - val_accuracy: 0.4213 - val_dice_coef: 0.4934 - val_jacard_coef: 0.3278 - lr: 0.0010\n",
            "Epoch 6/60\n",
            "23/23 [==============================] - 163s 7s/step - loss: 0.1953 - accuracy: 0.5091 - dice_coef: 0.5602 - jacard_coef: 0.3892 - val_loss: 0.2278 - val_accuracy: 0.4400 - val_dice_coef: 0.5403 - val_jacard_coef: 0.3705 - lr: 0.0010\n",
            "Epoch 7/60\n",
            "23/23 [==============================] - 167s 7s/step - loss: 0.1814 - accuracy: 0.5153 - dice_coef: 0.5845 - jacard_coef: 0.4131 - val_loss: 0.1945 - val_accuracy: 0.4449 - val_dice_coef: 0.5778 - val_jacard_coef: 0.4067 - lr: 0.0010\n",
            "Epoch 8/60\n",
            "23/23 [==============================] - 163s 7s/step - loss: 0.1702 - accuracy: 0.5146 - dice_coef: 0.6041 - jacard_coef: 0.4329 - val_loss: 0.1731 - val_accuracy: 0.4443 - val_dice_coef: 0.5965 - val_jacard_coef: 0.4256 - lr: 0.0010\n",
            "Epoch 9/60\n",
            "23/23 [==============================] - 162s 7s/step - loss: 0.1623 - accuracy: 0.5179 - dice_coef: 0.6202 - jacard_coef: 0.4496 - val_loss: 0.1671 - val_accuracy: 0.4523 - val_dice_coef: 0.6158 - val_jacard_coef: 0.4454 - lr: 0.0010\n",
            "Epoch 10/60\n",
            "23/23 [==============================] - 161s 7s/step - loss: 0.1553 - accuracy: 0.5212 - dice_coef: 0.6345 - jacard_coef: 0.4649 - val_loss: 0.1563 - val_accuracy: 0.4566 - val_dice_coef: 0.6225 - val_jacard_coef: 0.4525 - lr: 0.0010\n",
            "Epoch 11/60\n",
            "23/23 [==============================] - 160s 7s/step - loss: 0.1497 - accuracy: 0.5227 - dice_coef: 0.6434 - jacard_coef: 0.4745 - val_loss: 0.1512 - val_accuracy: 0.4593 - val_dice_coef: 0.6407 - val_jacard_coef: 0.4719 - lr: 0.0010\n",
            "Epoch 12/60\n",
            "23/23 [==============================] - 161s 7s/step - loss: 0.1450 - accuracy: 0.5259 - dice_coef: 0.6550 - jacard_coef: 0.4872 - val_loss: 0.1475 - val_accuracy: 0.4633 - val_dice_coef: 0.6439 - val_jacard_coef: 0.4754 - lr: 0.0010\n",
            "Epoch 13/60\n",
            "23/23 [==============================] - 161s 7s/step - loss: 0.1401 - accuracy: 0.5282 - dice_coef: 0.6682 - jacard_coef: 0.5019 - val_loss: 0.1446 - val_accuracy: 0.4731 - val_dice_coef: 0.6510 - val_jacard_coef: 0.4831 - lr: 0.0010\n",
            "Epoch 14/60\n",
            "23/23 [==============================] - 163s 7s/step - loss: 0.1367 - accuracy: 0.5318 - dice_coef: 0.6765 - jacard_coef: 0.5112 - val_loss: 0.1388 - val_accuracy: 0.4772 - val_dice_coef: 0.6616 - val_jacard_coef: 0.4949 - lr: 0.0010\n",
            "Epoch 15/60\n",
            "23/23 [==============================] - 164s 7s/step - loss: 0.1332 - accuracy: 0.5353 - dice_coef: 0.6844 - jacard_coef: 0.5203 - val_loss: 0.1341 - val_accuracy: 0.4776 - val_dice_coef: 0.6741 - val_jacard_coef: 0.5090 - lr: 0.0010\n",
            "Epoch 16/60\n",
            "23/23 [==============================] - 161s 7s/step - loss: 0.1309 - accuracy: 0.5376 - dice_coef: 0.6917 - jacard_coef: 0.5289 - val_loss: 0.1328 - val_accuracy: 0.4948 - val_dice_coef: 0.6782 - val_jacard_coef: 0.5136 - lr: 0.0010\n",
            "Epoch 17/60\n",
            "23/23 [==============================] - 161s 7s/step - loss: 0.1289 - accuracy: 0.5417 - dice_coef: 0.6961 - jacard_coef: 0.5340 - val_loss: 0.1317 - val_accuracy: 0.5101 - val_dice_coef: 0.6803 - val_jacard_coef: 0.5161 - lr: 0.0010\n",
            "Epoch 18/60\n",
            "23/23 [==============================] - 161s 7s/step - loss: 0.1277 - accuracy: 0.5433 - dice_coef: 0.6989 - jacard_coef: 0.5373 - val_loss: 0.1271 - val_accuracy: 0.5222 - val_dice_coef: 0.6926 - val_jacard_coef: 0.5302 - lr: 0.0010\n",
            "Epoch 19/60\n",
            "23/23 [==============================] - 160s 7s/step - loss: 0.1262 - accuracy: 0.5514 - dice_coef: 0.7046 - jacard_coef: 0.5441 - val_loss: 0.1274 - val_accuracy: 0.5170 - val_dice_coef: 0.6906 - val_jacard_coef: 0.5280 - lr: 0.0010\n",
            "Epoch 20/60\n",
            "23/23 [==============================] - 163s 7s/step - loss: 0.1240 - accuracy: 0.5549 - dice_coef: 0.7092 - jacard_coef: 0.5496 - val_loss: 0.1253 - val_accuracy: 0.5300 - val_dice_coef: 0.6996 - val_jacard_coef: 0.5385 - lr: 0.0010\n",
            "Epoch 21/60\n",
            "23/23 [==============================] - 164s 7s/step - loss: 0.1228 - accuracy: 0.5564 - dice_coef: 0.7137 - jacard_coef: 0.5551 - val_loss: 0.1230 - val_accuracy: 0.5330 - val_dice_coef: 0.7033 - val_jacard_coef: 0.5430 - lr: 0.0010\n",
            "Epoch 22/60\n",
            "23/23 [==============================] - 162s 7s/step - loss: 0.1215 - accuracy: 0.5635 - dice_coef: 0.7176 - jacard_coef: 0.5598 - val_loss: 0.1237 - val_accuracy: 0.5581 - val_dice_coef: 0.7040 - val_jacard_coef: 0.5438 - lr: 0.0010\n",
            "Epoch 23/60\n",
            "23/23 [==============================] - 161s 7s/step - loss: 0.1205 - accuracy: 0.5688 - dice_coef: 0.7186 - jacard_coef: 0.5613 - val_loss: 0.1241 - val_accuracy: 0.5438 - val_dice_coef: 0.6962 - val_jacard_coef: 0.5346 - lr: 0.0010\n",
            "Epoch 24/60\n",
            "23/23 [==============================] - 160s 7s/step - loss: 0.1204 - accuracy: 0.5733 - dice_coef: 0.7171 - jacard_coef: 0.5592 - val_loss: 0.1228 - val_accuracy: 0.5447 - val_dice_coef: 0.7070 - val_jacard_coef: 0.5473 - lr: 0.0010\n",
            "Epoch 25/60\n",
            "23/23 [==============================] - 160s 7s/step - loss: 0.1183 - accuracy: 0.5765 - dice_coef: 0.7241 - jacard_coef: 0.5676 - val_loss: 0.1206 - val_accuracy: 0.5488 - val_dice_coef: 0.7099 - val_jacard_coef: 0.5508 - lr: 0.0010\n",
            "Epoch 26/60\n",
            "23/23 [==============================] - 165s 7s/step - loss: 0.1175 - accuracy: 0.5849 - dice_coef: 0.7278 - jacard_coef: 0.5721 - val_loss: 0.1192 - val_accuracy: 0.5630 - val_dice_coef: 0.7132 - val_jacard_coef: 0.5548 - lr: 0.0010\n",
            "Epoch 27/60\n",
            "23/23 [==============================] - 161s 7s/step - loss: 0.1176 - accuracy: 0.5912 - dice_coef: 0.7279 - jacard_coef: 0.5723 - val_loss: 0.1187 - val_accuracy: 0.5343 - val_dice_coef: 0.7156 - val_jacard_coef: 0.5577 - lr: 0.0010\n",
            "Epoch 28/60\n",
            "23/23 [==============================] - 165s 7s/step - loss: 0.1164 - accuracy: 0.5945 - dice_coef: 0.7295 - jacard_coef: 0.5744 - val_loss: 0.1180 - val_accuracy: 0.5675 - val_dice_coef: 0.7156 - val_jacard_coef: 0.5577 - lr: 0.0010\n",
            "Epoch 29/60\n",
            "23/23 [==============================] - 161s 7s/step - loss: 0.1158 - accuracy: 0.6027 - dice_coef: 0.7307 - jacard_coef: 0.5758 - val_loss: 0.1194 - val_accuracy: 0.6105 - val_dice_coef: 0.7167 - val_jacard_coef: 0.5590 - lr: 0.0010\n",
            "Epoch 30/60\n",
            "23/23 [==============================] - 166s 7s/step - loss: 0.1157 - accuracy: 0.6073 - dice_coef: 0.7320 - jacard_coef: 0.5775 - val_loss: 0.1165 - val_accuracy: 0.6043 - val_dice_coef: 0.7244 - val_jacard_coef: 0.5684 - lr: 0.0010\n",
            "Epoch 31/60\n",
            "23/23 [==============================] - 163s 7s/step - loss: 0.1149 - accuracy: 0.6239 - dice_coef: 0.7340 - jacard_coef: 0.5800 - val_loss: 0.1168 - val_accuracy: 0.6008 - val_dice_coef: 0.7183 - val_jacard_coef: 0.5609 - lr: 0.0010\n",
            "Epoch 32/60\n",
            "23/23 [==============================] - 162s 7s/step - loss: 0.1144 - accuracy: 0.6298 - dice_coef: 0.7351 - jacard_coef: 0.5813 - val_loss: 0.1155 - val_accuracy: 0.6653 - val_dice_coef: 0.7221 - val_jacard_coef: 0.5656 - lr: 0.0010\n",
            "Epoch 33/60\n",
            "23/23 [==============================] - 161s 7s/step - loss: 0.1137 - accuracy: 0.6499 - dice_coef: 0.7384 - jacard_coef: 0.5854 - val_loss: 0.1157 - val_accuracy: 0.7284 - val_dice_coef: 0.7221 - val_jacard_coef: 0.5656 - lr: 0.0010\n",
            "Epoch 34/60\n",
            "23/23 [==============================] - 161s 7s/step - loss: 0.1133 - accuracy: 0.6685 - dice_coef: 0.7393 - jacard_coef: 0.5865 - val_loss: 0.1157 - val_accuracy: 0.7509 - val_dice_coef: 0.7228 - val_jacard_coef: 0.5665 - lr: 0.0010\n",
            "Epoch 35/60\n",
            "23/23 [==============================] - 163s 7s/step - loss: 0.1133 - accuracy: 0.6806 - dice_coef: 0.7404 - jacard_coef: 0.5881 - val_loss: 0.1145 - val_accuracy: 0.7594 - val_dice_coef: 0.7229 - val_jacard_coef: 0.5666 - lr: 0.0010\n",
            "Epoch 36/60\n",
            "23/23 [==============================] - 160s 7s/step - loss: 0.1131 - accuracy: 0.6947 - dice_coef: 0.7411 - jacard_coef: 0.5888 - val_loss: 0.1144 - val_accuracy: 0.6814 - val_dice_coef: 0.7235 - val_jacard_coef: 0.5674 - lr: 0.0010\n",
            "Epoch 37/60\n",
            "23/23 [==============================] - 165s 7s/step - loss: 0.1125 - accuracy: 0.7074 - dice_coef: 0.7392 - jacard_coef: 0.5865 - val_loss: 0.1144 - val_accuracy: 0.7658 - val_dice_coef: 0.7210 - val_jacard_coef: 0.5642 - lr: 0.0010\n",
            "Epoch 38/60\n",
            "23/23 [==============================] - 162s 7s/step - loss: 0.1131 - accuracy: 0.7168 - dice_coef: 0.7397 - jacard_coef: 0.5872 - val_loss: 0.1144 - val_accuracy: 0.7208 - val_dice_coef: 0.7227 - val_jacard_coef: 0.5664 - lr: 0.0010\n",
            "Epoch 39/60\n",
            "23/23 [==============================] - 161s 7s/step - loss: 0.1124 - accuracy: 0.7261 - dice_coef: 0.7404 - jacard_coef: 0.5879 - val_loss: 0.1139 - val_accuracy: 0.7771 - val_dice_coef: 0.7240 - val_jacard_coef: 0.5679 - lr: 0.0010\n",
            "Epoch 40/60\n",
            "23/23 [==============================] - 161s 7s/step - loss: 0.1115 - accuracy: 0.7420 - dice_coef: 0.7436 - jacard_coef: 0.5920 - val_loss: 0.1142 - val_accuracy: 0.8389 - val_dice_coef: 0.7246 - val_jacard_coef: 0.5686 - lr: 0.0010\n",
            "Epoch 41/60\n",
            "23/23 [==============================] - 163s 7s/step - loss: 0.1116 - accuracy: 0.7498 - dice_coef: 0.7428 - jacard_coef: 0.5911 - val_loss: 0.1130 - val_accuracy: 0.7898 - val_dice_coef: 0.7271 - val_jacard_coef: 0.5717 - lr: 0.0010\n",
            "Epoch 42/60\n",
            "23/23 [==============================] - 161s 7s/step - loss: 0.1113 - accuracy: 0.7540 - dice_coef: 0.7435 - jacard_coef: 0.5918 - val_loss: 0.1132 - val_accuracy: 0.8474 - val_dice_coef: 0.7259 - val_jacard_coef: 0.5703 - lr: 0.0010\n",
            "Epoch 43/60\n",
            "23/23 [==============================] - 163s 7s/step - loss: 0.1106 - accuracy: 0.7654 - dice_coef: 0.7450 - jacard_coef: 0.5938 - val_loss: 0.1134 - val_accuracy: 0.9375 - val_dice_coef: 0.7254 - val_jacard_coef: 0.5697 - lr: 0.0010\n",
            "Epoch 44/60\n",
            "23/23 [==============================] - 161s 7s/step - loss: 0.1103 - accuracy: 0.7686 - dice_coef: 0.7479 - jacard_coef: 0.5975 - val_loss: 0.1126 - val_accuracy: 0.8919 - val_dice_coef: 0.7275 - val_jacard_coef: 0.5722 - lr: 0.0010\n",
            "Epoch 45/60\n",
            "23/23 [==============================] - 160s 7s/step - loss: 0.1103 - accuracy: 0.7758 - dice_coef: 0.7484 - jacard_coef: 0.5982 - val_loss: 0.1128 - val_accuracy: 0.8980 - val_dice_coef: 0.7247 - val_jacard_coef: 0.5688 - lr: 0.0010\n",
            "Epoch 46/60\n",
            "23/23 [==============================] - 159s 7s/step - loss: 0.1106 - accuracy: 0.7788 - dice_coef: 0.7454 - jacard_coef: 0.5942 - val_loss: 0.1123 - val_accuracy: 0.8746 - val_dice_coef: 0.7264 - val_jacard_coef: 0.5709 - lr: 0.0010\n",
            "Epoch 47/60\n",
            "23/23 [==============================] - 159s 7s/step - loss: 0.1100 - accuracy: 0.7819 - dice_coef: 0.7466 - jacard_coef: 0.5958 - val_loss: 0.1123 - val_accuracy: 0.9431 - val_dice_coef: 0.7306 - val_jacard_coef: 0.5761 - lr: 0.0010\n",
            "Epoch 48/60\n",
            "23/23 [==============================] - 160s 7s/step - loss: 0.1099 - accuracy: 0.7914 - dice_coef: 0.7469 - jacard_coef: 0.5962 - val_loss: 0.1125 - val_accuracy: 0.9603 - val_dice_coef: 0.7271 - val_jacard_coef: 0.5717 - lr: 0.0010\n",
            "Epoch 49/60\n",
            "23/23 [==============================] - 161s 7s/step - loss: 0.1097 - accuracy: 0.7906 - dice_coef: 0.7479 - jacard_coef: 0.5974 - val_loss: 0.1126 - val_accuracy: 0.8840 - val_dice_coef: 0.7270 - val_jacard_coef: 0.5716 - lr: 0.0010\n",
            "Epoch 50/60\n",
            "23/23 [==============================] - 159s 7s/step - loss: 0.1095 - accuracy: 0.7926 - dice_coef: 0.7477 - jacard_coef: 0.5972 - val_loss: 0.1119 - val_accuracy: 0.8689 - val_dice_coef: 0.7304 - val_jacard_coef: 0.5758 - lr: 0.0010\n",
            "Epoch 51/60\n",
            "23/23 [==============================] - 159s 7s/step - loss: 0.1091 - accuracy: 0.8000 - dice_coef: 0.7494 - jacard_coef: 0.5993 - val_loss: 0.1121 - val_accuracy: 0.9468 - val_dice_coef: 0.7292 - val_jacard_coef: 0.5743 - lr: 0.0010\n",
            "Epoch 52/60\n",
            "23/23 [==============================] - 159s 7s/step - loss: 0.1093 - accuracy: 0.8027 - dice_coef: 0.7493 - jacard_coef: 0.5994 - val_loss: 0.1117 - val_accuracy: 0.9379 - val_dice_coef: 0.7274 - val_jacard_coef: 0.5721 - lr: 0.0010\n",
            "Epoch 53/60\n",
            "23/23 [==============================] - 159s 7s/step - loss: 0.1090 - accuracy: 0.7982 - dice_coef: 0.7484 - jacard_coef: 0.5981 - val_loss: 0.1118 - val_accuracy: 0.9366 - val_dice_coef: 0.7291 - val_jacard_coef: 0.5742 - lr: 0.0010\n",
            "Epoch 54/60\n",
            "23/23 [==============================] - 160s 7s/step - loss: 0.1089 - accuracy: 0.8028 - dice_coef: 0.7499 - jacard_coef: 0.6001 - val_loss: 0.1115 - val_accuracy: 0.9347 - val_dice_coef: 0.7285 - val_jacard_coef: 0.5735 - lr: 0.0010\n",
            "Epoch 55/60\n",
            "23/23 [==============================] - 164s 7s/step - loss: 0.1087 - accuracy: 0.8029 - dice_coef: 0.7487 - jacard_coef: 0.5987 - val_loss: 0.1109 - val_accuracy: 0.8421 - val_dice_coef: 0.7304 - val_jacard_coef: 0.5758 - lr: 0.0010\n",
            "Epoch 56/60\n",
            "23/23 [==============================] - 163s 7s/step - loss: 0.1087 - accuracy: 0.7969 - dice_coef: 0.7486 - jacard_coef: 0.5984 - val_loss: 0.1114 - val_accuracy: 0.9607 - val_dice_coef: 0.7345 - val_jacard_coef: 0.5810 - lr: 0.0010\n",
            "Epoch 57/60\n",
            "23/23 [==============================] - 160s 7s/step - loss: 0.1086 - accuracy: 0.8012 - dice_coef: 0.7511 - jacard_coef: 0.6015 - val_loss: 0.1109 - val_accuracy: 0.9039 - val_dice_coef: 0.7325 - val_jacard_coef: 0.5784 - lr: 0.0010\n",
            "Epoch 58/60\n",
            "23/23 [==============================] - 160s 7s/step - loss: 0.1083 - accuracy: 0.8041 - dice_coef: 0.7512 - jacard_coef: 0.6017 - val_loss: 0.1109 - val_accuracy: 0.9181 - val_dice_coef: 0.7353 - val_jacard_coef: 0.5818 - lr: 0.0010\n",
            "Epoch 59/60\n",
            "23/23 [==============================] - 161s 7s/step - loss: 0.1082 - accuracy: 0.8024 - dice_coef: 0.7522 - jacard_coef: 0.6030 - val_loss: 0.1108 - val_accuracy: 0.9074 - val_dice_coef: 0.7325 - val_jacard_coef: 0.5785 - lr: 0.0010\n",
            "Epoch 60/60\n",
            "23/23 [==============================] - 160s 7s/step - loss: 0.1083 - accuracy: 0.8027 - dice_coef: 0.7503 - jacard_coef: 0.6005 - val_loss: 0.1113 - val_accuracy: 0.9481 - val_dice_coef: 0.7325 - val_jacard_coef: 0.5784 - lr: 0.0010\n"
          ]
        }
      ],
      "source": [
        "results = model.fit(X_train, y_train, batch_size=96, epochs=60, callbacks=callbacks,\\\n",
        "                    validation_data=(X_valid, y_valid))"
      ],
      "id": "dYIWHKM4vDJX"
    },
    {
      "cell_type": "code",
      "execution_count": 45,
      "metadata": {
        "id": "2Ug4e8urvFtP",
        "colab": {
          "base_uri": "https://localhost:8080/",
          "height": 513
        },
        "outputId": "2c20762c-7dcf-4eb8-de66-2dda45049f83"
      },
      "outputs": [
        {
          "output_type": "display_data",
          "data": {
            "text/plain": [
              "<Figure size 576x576 with 1 Axes>"
            ],
            "image/png": "[encoded data removed]"
          },
          "metadata": {
            "needs_background": "light"
          }
        }
      ],
      "source": [
        "plt.figure(figsize=(8, 8))\n",
        "plt.title(\"Learning curve loss\")\n",
        "plt.plot(results.history[\"loss\"], label=\"loss\")\n",
        "plt.plot(results.history[\"val_loss\"], label=\"val_loss\")\n",
        "plt.plot( np.argmin(results.history[\"val_loss\"]), np.min(results.history[\"val_loss\"]), marker=\"x\", color=\"r\", label=\"best model\")\n",
        "plt.xlabel(\"Epochs\")\n",
        "plt.ylabel(\"loss\")\n",
        "plt.legend();"
      ],
      "id": "2Ug4e8urvFtP"
    },
    {
      "cell_type": "code",
      "execution_count": 46,
      "metadata": {
        "id": "NsIH3XAKa3KP",
        "colab": {
          "base_uri": "https://localhost:8080/",
          "height": 513
        },
        "outputId": "4c833008-9ea6-472b-c2dc-c0d7c8043022"
      },
      "outputs": [
        {
          "output_type": "display_data",
          "data": {
            "text/plain": [
              "<Figure size 576x576 with 1 Axes>"
            ],
            "image/png": "[encoded data removed]"
          },
          "metadata": {
            "needs_background": "light"
          }
        }
      ],
      "source": [
        "plt.figure(figsize=(8, 8))\n",
        "plt.title(\"Learning curve accuracy\")\n",
        "plt.plot(results.history[\"accuracy\"], label=\"accuracy\")\n",
        "plt.plot(results.history[\"val_accuracy\"], label=\"val_accuracy\")\n",
        "plt.plot( np.argmax(results.history[\"val_accuracy\"]), np.max(results.history[\"val_accuracy\"]), marker=\"x\", color=\"r\", label=\"best model\")\n",
        "plt.xlabel(\"Epochs\")\n",
        "plt.ylabel(\"accuracy\")\n",
        "plt.legend();"
      ],
      "id": "NsIH3XAKa3KP"
    },
    {
      "cell_type": "code",
      "execution_count": 47,
      "metadata": {
        "id": "B2SUru0HkjSu",
        "colab": {
          "base_uri": "https://localhost:8080/",
          "height": 513
        },
        "outputId": "7bab7eb5-4276-4a27-9f48-249f5f31c86c"
      },
      "outputs": [
        {
          "output_type": "display_data",
          "data": {
            "text/plain": [
              "<Figure size 576x576 with 1 Axes>"
            ],
            "image/png": "[encoded data removed]"
          },
          "metadata": {
            "needs_background": "light"
          }
        }
      ],
      "source": [
        "plt.figure(figsize=(8, 8))\n",
        "plt.title(\"Learning curve dice_coef\")\n",
        "plt.plot(results.history[\"dice_coef\"], label=\"dice_coef\")\n",
        "plt.plot(results.history[\"val_dice_coef\"], label=\"val_dice_coef\")\n",
        "plt.plot( np.argmax(results.history[\"val_dice_coef\"]), np.max(results.history[\"val_dice_coef\"]), marker=\"x\", color=\"r\", label=\"best model\")\n",
        "plt.xlabel(\"Epochs\")\n",
        "plt.ylabel(\"dice_coef\")\n",
        "plt.legend();"
      ],
      "id": "B2SUru0HkjSu"
    },
    {
      "cell_type": "code",
      "execution_count": 48,
      "metadata": {
        "id": "0VN3hhy4fWxH",
        "colab": {
          "base_uri": "https://localhost:8080/",
          "height": 513
        },
        "outputId": "35c60b09-55b1-4f47-db34-eb7c2a5430af"
      },
      "outputs": [
        {
          "output_type": "display_data",
          "data": {
            "text/plain": [
              "<Figure size 576x576 with 1 Axes>"
            ],
            "image/png": "[encoded data removed]"
          },
          "metadata": {
            "needs_background": "light"
          }
        }
      ],
      "source": [
        "plt.figure(figsize=(8, 8))\n",
        "plt.title(\"Learning curve jacard_coef\")\n",
        "plt.plot(results.history[\"jacard_coef\"], label=\"jacard_coef\")\n",
        "plt.plot(results.history[\"val_jacard_coef\"], label=\"val_jacard_coef\")\n",
        "plt.plot( np.argmax(results.history[\"val_jacard_coef\"]), np.max(results.history[\"val_jacard_coef\"]), marker=\"x\", color=\"r\", label=\"best model\")\n",
        "plt.xlabel(\"Epochs\")\n",
        "plt.ylabel(\"jacard_coef\")\n",
        "plt.legend();"
      ],
      "id": "0VN3hhy4fWxH"
    },
    {
      "cell_type": "markdown",
      "metadata": {
        "id": "BnQlD9smvV1P"
      },
      "source": [
        "# Evaluation"
      ],
      "id": "BnQlD9smvV1P"
    },
    {
      "cell_type": "code",
      "execution_count": 49,
      "metadata": {
        "id": "uc9qS6mwE4VC"
      },
      "outputs": [],
      "source": [
        "# # load the best model\n",
        "# model.load_weights('model.h5')"
      ],
      "id": "uc9qS6mwE4VC"
    },
    {
      "cell_type": "code",
      "execution_count": 50,
      "metadata": {
        "id": "qgDmFeG7vZF5",
        "colab": {
          "base_uri": "https://localhost:8080/"
        },
        "outputId": "0f41e22a-e83f-4b72-92bf-817e405653fe"
      },
      "outputs": [
        {
          "output_type": "stream",
          "name": "stdout",
          "text": [
            "17/17 [==============================] - 9s 527ms/step - loss: 0.1113 - accuracy: 0.9481 - dice_coef: 0.7289 - jacard_coef: 0.5745\n"
          ]
        },
        {
          "output_type": "execute_result",
          "data": {
            "text/plain": [
              "[0.11134593188762665,\n",
              " 0.9481261968612671,\n",
              " 0.728929877281189,\n",
              " 0.5744624137878418]"
            ]
          },
          "metadata": {},
          "execution_count": 50
        }
      ],
      "source": [
        "# Evaluate on validation set (this must be equals to the best log_loss)\n",
        "model.evaluate(X_valid, y_valid, verbose=1)"
      ],
      "id": "qgDmFeG7vZF5"
    },
    {
      "cell_type": "code",
      "execution_count": 51,
      "metadata": {
        "id": "hSDMrJgXva8y",
        "colab": {
          "base_uri": "https://localhost:8080/"
        },
        "outputId": "505a773d-6879-4f25-8960-17561ad370ab"
      },
      "outputs": [
        {
          "output_type": "stream",
          "name": "stdout",
          "text": [
            "67/67 [==============================] - 34s 497ms/step\n",
            "17/17 [==============================] - 8s 493ms/step\n"
          ]
        }
      ],
      "source": [
        "# Predict on train, val and test\n",
        "preds_train1 = model.predict(X_train, verbose=1)\n",
        "preds_val1 = model.predict(X_valid, verbose=1)"
      ],
      "id": "hSDMrJgXva8y"
    },
    {
      "cell_type": "code",
      "execution_count": 52,
      "metadata": {
        "id": "DQKH4kSl1jCy",
        "colab": {
          "base_uri": "https://localhost:8080/"
        },
        "outputId": "44b75232-7853-4f0d-9fc7-0f2a0f3965bc"
      },
      "outputs": [
        {
          "output_type": "execute_result",
          "data": {
            "text/plain": [
              "(2133, 128, 128, 2)"
            ]
          },
          "metadata": {},
          "execution_count": 52
        }
      ],
      "source": [
        "preds_train1.shape"
      ],
      "id": "DQKH4kSl1jCy"
    },
    {
      "cell_type": "code",
      "execution_count": 53,
      "metadata": {
        "id": "I-L3vXLv1lcZ",
        "colab": {
          "base_uri": "https://localhost:8080/"
        },
        "outputId": "b0598881-f344-42c6-9e45-481a8a1618da"
      },
      "outputs": [
        {
          "output_type": "execute_result",
          "data": {
            "text/plain": [
              "(534, 128, 128, 2)"
            ]
          },
          "metadata": {},
          "execution_count": 53
        }
      ],
      "source": [
        "preds_val1.shape"
      ],
      "id": "I-L3vXLv1lcZ"
    },
    {
      "cell_type": "markdown",
      "metadata": {
        "id": "jNVtTqeMZYD0"
      },
      "source": [
        "## Predictions on training set"
      ],
      "id": "jNVtTqeMZYD0"
    },
    {
      "cell_type": "code",
      "execution_count": null,
      "metadata": {
        "id": "8bVpEj3XZTA1"
      },
      "outputs": [],
      "source": [
        "# Check if training data looks all right\n",
        "for i in range(preds_train1.shape[0]):\n",
        "  print(i)\n",
        "  plot_sample(X_train, y_train, preds_train1, ix=i)\n",
        "  plt.show()\n",
        "  if i >25:\n",
        "    break"
      ],
      "id": "8bVpEj3XZTA1"
    },
    {
      "cell_type": "code",
      "execution_count": null,
      "metadata": {
        "id": "gOhRzKIWZcG5"
      },
      "outputs": [],
      "source": [
        "plot_sample(X_train, y_train, preds_train1)"
      ],
      "id": "gOhRzKIWZcG5"
    },
    {
      "cell_type": "markdown",
      "metadata": {
        "id": "sw3PmbjAaDpt"
      },
      "source": [
        "## Predictions on test set"
      ],
      "id": "sw3PmbjAaDpt"
    },
    {
      "cell_type": "code",
      "execution_count": null,
      "metadata": {
        "id": "Cmk9chA6ZxTb"
      },
      "outputs": [],
      "source": [
        "# Check if valid data looks all right\n",
        "for i in range(preds_val1.shape[0]):\n",
        "  print(i)\n",
        "  plot_sample(X_valid, y_valid, preds_val1, ix=i)\n",
        "  plt.show()\n",
        "  if i > int(preds_val1.shape[0]/2):\n",
        "    break"
      ],
      "id": "Cmk9chA6ZxTb"
    },
    {
      "cell_type": "code",
      "execution_count": 95,
      "metadata": {
        "id": "d3vOKewraHQG",
        "colab": {
          "base_uri": "https://localhost:8080/",
          "height": 228
        },
        "outputId": "fd50c5e7-36b3-4073-891a-e1a6e21cfd77"
      },
      "outputs": [
        {
          "output_type": "display_data",
          "data": {
            "text/plain": [
              "<Figure size 720x720 with 3 Axes>"
            ],
            "image/png": "[encoded data removed]"
          },
          "metadata": {
            "needs_background": "light"
          }
        }
      ],
      "source": [
        "plot_sample(X_valid, y_valid, preds_val1)"
      ],
      "id": "d3vOKewraHQG"
    },
    {
      "cell_type": "code",
      "source": [
        ""
      ],
      "metadata": {
        "id": "o0KrP8tfNRy6"
      },
      "id": "o0KrP8tfNRy6",
      "execution_count": null,
      "outputs": []
    }
  ],
  "metadata": {
    "colab": {
      "collapsed_sections": [],
      "machine_shape": "hm",
      "name": "Segmentation_sémantique.ipynb",
      "provenance": [],
      "include_colab_link": true
    },
    "kernelspec": {
      "display_name": "Python 3 (ipykernel)",
      "language": "python",
      "name": "python3"
    },
    "language_info": {
      "codemirror_mode": {
        "name": "ipython",
        "version": 3
      },
      "file_extension": ".py",
      "mimetype": "text/x-python",
      "name": "python",
      "nbconvert_exporter": "python",
      "pygments_lexer": "ipython3",
      "version": "3.8.12"
    }
  },
  "nbformat": 4,
  "nbformat_minor": 5
}